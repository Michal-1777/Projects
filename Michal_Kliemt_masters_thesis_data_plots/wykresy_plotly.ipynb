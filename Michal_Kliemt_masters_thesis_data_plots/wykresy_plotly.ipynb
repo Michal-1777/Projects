{
 "cells": [
  {
   "cell_type": "code",
   "execution_count": null,
   "id": "initial_id",
   "metadata": {
    "collapsed": true
   },
   "outputs": [],
   "source": [
    "import pandas as pd\n",
    "import plotly.express as px\n",
    "import plotly.graph_objects as go\n",
    "from plotly.subplots import make_subplots"
   ]
  },
  {
   "cell_type": "code",
   "execution_count": null,
   "outputs": [],
   "source": [
    "df = pd.read_csv('dane_csv.csv', sep=';', encoding='ANSI')\n",
    "df"
   ],
   "metadata": {
    "collapsed": false
   },
   "id": "10ba12daa87af6c3"
  },
  {
   "cell_type": "code",
   "execution_count": null,
   "outputs": [],
   "source": [
    "fig = px.line(df, x = 'Czas', y = 'Bieg wyciągu', title='Bieg wyciągu w czasie')\n",
    "fig.show()"
   ],
   "metadata": {
    "collapsed": false
   },
   "id": "bcb1107cd559c1ca"
  },
  {
   "cell_type": "code",
   "execution_count": null,
   "outputs": [],
   "source": [
    "fig = px.line(df, x = 'Czas', y = 'Bieg wyciągu', title='Biegi w czasie')\n",
    "fig.add_scatter(x = ['Czas'], y = ['Bieg nadmuchu'])\n",
    "fig.show()"
   ],
   "metadata": {
    "collapsed": false
   },
   "id": "fc9ab0d939304ed"
  },
  {
   "cell_type": "code",
   "execution_count": null,
   "outputs": [],
   "source": [
    "fig = px.scatter(df, x = 'Czas', y = 'Bieg wyciągu', title='Bieg wyciągu w czasie')\n",
    "fig.show()"
   ],
   "metadata": {
    "collapsed": false
   },
   "id": "942a3486d6cbfdcc"
  },
  {
   "cell_type": "code",
   "execution_count": null,
   "outputs": [],
   "source": [
    "#fig = px.line(df, x='Date', y=['AAPL.High', 'AAPL.Low'])\n",
    "fig = px.line(df, x='Czas', y=['Bieg wyciągu','Bieg nadmuchu'], title='Biegi w czasie')\n",
    "fig.update_layout(\n",
    "    #title=\"Plot Title\",\n",
    "    xaxis_title=\"Data\",\n",
    "    yaxis_title=\"Biegi\",\n",
    "    legend_title=\"Legenda\",\n",
    ")\n",
    "#fig.add_scatter(x=['Czas'], y=['Bieg nadmuchu'])\n",
    "fig.show()"
   ],
   "metadata": {
    "collapsed": false
   },
   "id": "50bb4d5a3ab24d62"
  },
  {
   "cell_type": "code",
   "execution_count": null,
   "outputs": [],
   "source": [
    "fig = make_subplots(specs=[[{\"secondary_y\": True}]])\n",
    "\n",
    "# Add traces\n",
    "fig.add_trace(\n",
    "    go.Scatter(x=df['Czas'], y=df['Bieg wyciągu'], name=\"Bieg wyciągu\", line_shape='hv'),\n",
    "    secondary_y=False,\n",
    ")\n",
    "\n",
    "fig.add_trace(\n",
    "    go.Scatter(x=df['Czas'], y=df['Bieg nadmuchu'], name=\"Bieg nadmuchu\", line_shape='hv'),\n",
    "    secondary_y=False,\n",
    ")\n",
    "#fig.add_trace(\n",
    "#    go.Scatter(x=df['Czas'], y=df['Bieg nadmuchu'],mode='markers', name=\"Bieg nadmuchu\"),\n",
    "#    secondary_y=False,\n",
    "#)\n",
    "\n",
    "fig.add_trace(\n",
    "    go.Scatter(x=df['Czas'], y=df['Temperatura zewnętrzna'], name=\"Temperatura zewnętrzna\"),\n",
    "    secondary_y=True,\n",
    ")\n",
    "\n",
    "# Add figure title\n",
    "fig.update_layout(\n",
    "    title_text=\"Temperatura zewnętrzna i biegi wentylatorów w czasie\"\n",
    ")\n",
    "fig.update_layout(\n",
    "    #title=\"Plot Title\",\n",
    "    xaxis_title=\"Data\",\n",
    "    yaxis_title=\"Biegi\",\n",
    "    legend_title=\"Legenda\",\n",
    ")\n",
    "\n",
    "# Set x-axis title\n",
    "fig.update_xaxes(title_text=\"Data\")\n",
    "\n",
    "# Set y-axes titles\n",
    "fig.update_yaxes(title_text=\"Bieg wentylatora\", type='category', secondary_y=False)\n",
    "fig.update_yaxes(title_text=\"Temperatura [°C]\", dtick=2, secondary_y=True)\n",
    "\n",
    "fig.show()"
   ],
   "metadata": {
    "collapsed": false
   },
   "id": "e0b940efb9aab882"
  },
  {
   "cell_type": "code",
   "execution_count": null,
   "outputs": [],
   "source": [],
   "metadata": {
    "collapsed": false
   },
   "id": "5458a5d60ceb77a6"
  }
 ],
 "metadata": {
  "kernelspec": {
   "display_name": "Python 3",
   "language": "python",
   "name": "python3"
  },
  "language_info": {
   "codemirror_mode": {
    "name": "ipython",
    "version": 2
   },
   "file_extension": ".py",
   "mimetype": "text/x-python",
   "name": "python",
   "nbconvert_exporter": "python",
   "pygments_lexer": "ipython2",
   "version": "2.7.6"
  }
 },
 "nbformat": 4,
 "nbformat_minor": 5
}
