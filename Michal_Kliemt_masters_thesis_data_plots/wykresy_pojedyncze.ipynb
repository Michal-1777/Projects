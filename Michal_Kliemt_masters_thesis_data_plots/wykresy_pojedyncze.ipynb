{
 "cells": [
  {
   "cell_type": "code",
   "execution_count": null,
   "id": "initial_id",
   "metadata": {
    "collapsed": true
   },
   "outputs": [],
   "source": [
    "import pandas as pd\n",
    "import plotly.express as px"
   ]
  },
  {
   "cell_type": "code",
   "execution_count": null,
   "outputs": [],
   "source": [
    "df = pd.read_csv('dane_csv.csv', sep=';', encoding='ANSI')\n",
    "df"
   ],
   "metadata": {
    "collapsed": false
   },
   "id": "470d48c4d81c6cb8"
  },
  {
   "cell_type": "markdown",
   "source": [
    "Bieg wyciągu"
   ],
   "metadata": {
    "collapsed": false
   },
   "id": "fffe5d45f5e4914e"
  },
  {
   "cell_type": "code",
   "execution_count": null,
   "outputs": [],
   "source": [
    "fig = px.line(df, x = 'Czas', y = 'Bieg wyciągu', title='Bieg wyciągu w czasie', line_shape='hv')\n",
    "fig.update_yaxes(type='category')\n",
    "fig.show()"
   ],
   "metadata": {
    "collapsed": false
   },
   "id": "6bae299b717b8309"
  },
  {
   "cell_type": "markdown",
   "source": [
    "Bieg nadmuchu"
   ],
   "metadata": {
    "collapsed": false
   },
   "id": "9244fee957b938cb"
  },
  {
   "cell_type": "code",
   "execution_count": null,
   "outputs": [],
   "source": [
    "fig = px.line(df, x = 'Czas', y = 'Bieg nadmuchu', title='Bieg nadmuchu w czasie', line_shape='hv')\n",
    "fig.update_yaxes(type='category')\n",
    "fig.show()"
   ],
   "metadata": {
    "collapsed": false
   },
   "id": "e96ed1b02e8a3a25"
  },
  {
   "cell_type": "markdown",
   "source": [
    "Odczyt dym"
   ],
   "metadata": {
    "collapsed": false
   },
   "id": "211e4ee694894f4f"
  },
  {
   "cell_type": "code",
   "execution_count": null,
   "outputs": [],
   "source": [
    "fig = px.line(df, x = 'Czas', y = 'Odczyt dym', title='Odczyt dymu w czasie')\n",
    "fig.update_yaxes(\n",
    "    title_text=\"Odczyt dymu\",\n",
    "    dtick=10\n",
    ")\n",
    "fig.show()"
   ],
   "metadata": {
    "collapsed": false
   },
   "id": "d81556ef85a333e9"
  },
  {
   "cell_type": "markdown",
   "source": [
    "Odczyt tlenku węgla"
   ],
   "metadata": {
    "collapsed": false
   },
   "id": "49786ab1d100cddc"
  },
  {
   "cell_type": "code",
   "execution_count": null,
   "outputs": [],
   "source": [
    "fig = px.line(df, x = 'Czas', y = 'Odczyt tlenku węgla', title='Odczyt tlenku węgla w czasie')\n",
    "fig.update_yaxes(\n",
    "    title_text=\"Odczyt tlenku węgla\",\n",
    "    dtick=20\n",
    ")\n",
    "fig.show()"
   ],
   "metadata": {
    "collapsed": false
   },
   "id": "85803753bf128eec"
  },
  {
   "cell_type": "markdown",
   "source": [
    "Temperatura zewnętrzna"
   ],
   "metadata": {
    "collapsed": false
   },
   "id": "96d3feb7f2055e74"
  },
  {
   "cell_type": "code",
   "execution_count": null,
   "outputs": [],
   "source": [
    "fig = px.line(df, x = 'Czas', y = 'Temperatura zewnętrzna', title='Temperatura zewnętrzna w czasie')\n",
    "fig.update_layout(\n",
    "    yaxis_title=\"Temperatura zewnętrzna [°C]\",\n",
    ")\n",
    "fig.update_yaxes(\n",
    "    dtick=2.5\n",
    ")\n",
    "fig.show()"
   ],
   "metadata": {
    "collapsed": false
   },
   "id": "37a32af06a1e8750"
  },
  {
   "cell_type": "markdown",
   "source": [
    "Temperatura góra"
   ],
   "metadata": {
    "collapsed": false
   },
   "id": "b84dc7165b6397ae"
  },
  {
   "cell_type": "code",
   "execution_count": null,
   "outputs": [],
   "source": [
    "fig = px.line(df, x = 'Czas', y = 'Temperatura góra', title='Temperatura poddasza w czasie')\n",
    "fig.update_layout(\n",
    "    yaxis_title=\"Temperatura poddasza [°C]\",\n",
    ")\n",
    "fig.update_yaxes(\n",
    "    dtick=1\n",
    ")\n",
    "fig.show()"
   ],
   "metadata": {
    "collapsed": false
   },
   "id": "3da11dd671472107"
  },
  {
   "cell_type": "markdown",
   "source": [
    "Temperatura powietrza napływającego"
   ],
   "metadata": {
    "collapsed": false
   },
   "id": "50e612ff24ae7cca"
  },
  {
   "cell_type": "code",
   "execution_count": null,
   "outputs": [],
   "source": [
    "fig = px.line(df, x = 'Czas', y = 'Temperatura pomieszczenie gospodarcze', title='Temperatura powietrza napływającego w czasie')\n",
    "fig.update_layout(\n",
    "    yaxis_title=\"Temperatura powietrza napływającego [°C]\",\n",
    ")\n",
    "fig.update_yaxes(\n",
    "    dtick=1.5\n",
    ")\n",
    "fig.show()"
   ],
   "metadata": {
    "collapsed": false
   },
   "id": "7de36c97bc54df4a"
  },
  {
   "cell_type": "markdown",
   "source": [
    "Temperatura kuchnia"
   ],
   "metadata": {
    "collapsed": false
   },
   "id": "2a10f52d297362de"
  },
  {
   "cell_type": "code",
   "execution_count": null,
   "outputs": [],
   "source": [
    "fig = px.line(df, x = 'Czas', y = 'Temperatura kuchnia', title='Temperatura kuchni w czasie')\n",
    "fig.update_layout(\n",
    "    yaxis_title=\"Temperatura kuchnia [°C]\",\n",
    ")\n",
    "fig.update_yaxes(\n",
    "    dtick=0.5\n",
    ")\n",
    "fig.show()"
   ],
   "metadata": {
    "collapsed": false
   },
   "id": "489265819d84c24e"
  },
  {
   "cell_type": "markdown",
   "source": [
    "Temperatura łazienka"
   ],
   "metadata": {
    "collapsed": false
   },
   "id": "7ad1bb1271694cc"
  },
  {
   "cell_type": "code",
   "execution_count": null,
   "outputs": [],
   "source": [
    "fig = px.line(df, x = 'Czas', y = 'Temperatura łazienka', title='Temperatura łazienki w czasie')\n",
    "fig.update_layout(\n",
    "    yaxis_title=\"Temperatura łazienka [°C]\",\n",
    ")\n",
    "fig.update_yaxes(\n",
    "    dtick=0.5\n",
    ")\n",
    "fig.show()"
   ],
   "metadata": {
    "collapsed": false
   },
   "id": "93e8f9d4c962886b"
  },
  {
   "cell_type": "markdown",
   "source": [
    "Ciśnienie kuchnia"
   ],
   "metadata": {
    "collapsed": false
   },
   "id": "68a7eff37361dc9"
  },
  {
   "cell_type": "code",
   "execution_count": null,
   "outputs": [],
   "source": [
    "fig = px.line(df, x = 'Czas', y = 'Ciśnienie kuchia', title='Ciśnienie kuchni w czasie')\n",
    "fig.update_layout(\n",
    "    yaxis_title=\"Ciśnienie kuchnia [hPa]\",\n",
    ")\n",
    "fig.update_yaxes(\n",
    "    dtick=5\n",
    ")\n",
    "fig.show()"
   ],
   "metadata": {
    "collapsed": false
   },
   "id": "389de8712463a1d0"
  },
  {
   "cell_type": "markdown",
   "source": [
    "Ciśnienie łazienka"
   ],
   "metadata": {
    "collapsed": false
   },
   "id": "a0a7b5365b3f8a21"
  },
  {
   "cell_type": "code",
   "execution_count": null,
   "outputs": [],
   "source": [
    "fig = px.line(df, x = 'Czas', y = 'Ciśnienie łazienka', title='Ciśnienie łazienki w czasie')\n",
    "fig.update_layout(\n",
    "    yaxis_title=\"Ciśnienie łazienka [hPa]\",\n",
    ")\n",
    "fig.update_yaxes(\n",
    "    dtick=5\n",
    ")\n",
    "fig.show()"
   ],
   "metadata": {
    "collapsed": false
   },
   "id": "d081bb7e9f0b4479"
  },
  {
   "cell_type": "markdown",
   "source": [
    "Wilgotność kuchnia"
   ],
   "metadata": {
    "collapsed": false
   },
   "id": "9d44838a54d69f10"
  },
  {
   "cell_type": "code",
   "execution_count": null,
   "outputs": [],
   "source": [
    "fig = px.line(df, x = 'Czas', y = 'Wilgotność kuchnia', title='Wilgotność kuchni w czasie')\n",
    "fig.update_layout(\n",
    "    yaxis_title=\"Wilgotność kuchnia [%]\",\n",
    ")\n",
    "fig.update_yaxes(\n",
    "    dtick=2\n",
    ")\n",
    "fig.show()"
   ],
   "metadata": {
    "collapsed": false
   },
   "id": "c135aa161a2f3e77"
  },
  {
   "cell_type": "markdown",
   "source": [
    "Wilgotność łazienka"
   ],
   "metadata": {
    "collapsed": false
   },
   "id": "e4e186f873d6da4a"
  },
  {
   "cell_type": "code",
   "execution_count": null,
   "outputs": [],
   "source": [
    "fig = px.line(df, x = 'Czas', y = 'Wilgotność łazienka', title='Wilgotność łazienki w czasie')\n",
    "fig.update_layout(\n",
    "    yaxis_title=\"Wilgotność łazienka [%]\",\n",
    ")\n",
    "fig.update_yaxes(\n",
    "    dtick=5\n",
    ")\n",
    "fig.show()"
   ],
   "metadata": {
    "collapsed": false
   },
   "id": "64654f357b72baf5"
  },
  {
   "cell_type": "markdown",
   "source": [
    "Średnia temperatura bez góry"
   ],
   "metadata": {
    "collapsed": false
   },
   "id": "19357e6f71adbe57"
  },
  {
   "cell_type": "code",
   "execution_count": null,
   "outputs": [],
   "source": [
    "fig = px.line(df, x = 'Czas', y = 'Średnia temperatura bez góry', title='Średnia temperatura bez poddasza w czasie')\n",
    "fig.update_layout(\n",
    "    yaxis_title=\"Średnia temperatura bez poddasza [°C]\",\n",
    ")\n",
    "fig.update_yaxes(\n",
    "    dtick=0.5\n",
    ")\n",
    "fig.show()"
   ],
   "metadata": {
    "collapsed": false
   },
   "id": "25c845ebb3aeb1c0"
  },
  {
   "cell_type": "markdown",
   "source": [
    "Średnia temperatura z góra"
   ],
   "metadata": {
    "collapsed": false
   },
   "id": "3b2ee09de6678b23"
  },
  {
   "cell_type": "code",
   "execution_count": null,
   "outputs": [],
   "source": [
    "fig = px.line(df, x = 'Czas', y = 'Średnia temperatura z góra', title='Średnia temperatura z poddaszem w czasie')\n",
    "fig.update_layout(\n",
    "    yaxis_title=\"Średnia temperatura z poddaszem [°C]\",\n",
    ")\n",
    "fig.update_yaxes(\n",
    "    dtick=0.5\n",
    ")\n",
    "fig.show()"
   ],
   "metadata": {
    "collapsed": false
   },
   "id": "4e2eb7608ddcd62c"
  },
  {
   "cell_type": "markdown",
   "source": [
    "Średnia wilgotność"
   ],
   "metadata": {
    "collapsed": false
   },
   "id": "29cfdf605003f254"
  },
  {
   "cell_type": "code",
   "execution_count": null,
   "outputs": [],
   "source": [
    "fig = px.line(df, x = 'Czas', y = 'Średnia wilgotność', title='Średnia wilgotność w czasie')\n",
    "fig.update_layout(\n",
    "    yaxis_title=\"Średnia wilgotność [%]\",\n",
    ")\n",
    "fig.update_yaxes(\n",
    "    dtick=2.5\n",
    ")\n",
    "fig.show()"
   ],
   "metadata": {
    "collapsed": false
   },
   "id": "e4dff4c8ca9a12b8"
  },
  {
   "cell_type": "markdown",
   "source": [
    "Koncentracja PM1p0"
   ],
   "metadata": {
    "collapsed": false
   },
   "id": "93de639bed656266"
  },
  {
   "cell_type": "code",
   "execution_count": null,
   "outputs": [],
   "source": [
    "fig = px.line(df, x = 'Czas', y = 'Koncentracja PM1p0 ', title='Koncentracja PM1.0 w czasie')\n",
    "fig.update_layout(\n",
    "    yaxis_title=\"Koncentracja PM1.0 [µg/m3]\",\n",
    ")\n",
    "fig.update_yaxes(\n",
    "    dtick=5\n",
    ")\n",
    "fig.show()"
   ],
   "metadata": {
    "collapsed": false
   },
   "id": "34a121ca922425a9"
  },
  {
   "cell_type": "markdown",
   "source": [
    "Koncentracja PM2p5"
   ],
   "metadata": {
    "collapsed": false
   },
   "id": "f14e6e25be300a12"
  },
  {
   "cell_type": "code",
   "execution_count": null,
   "outputs": [],
   "source": [
    "fig = px.line(df, x = 'Czas', y = 'Koncentracja PM2p5 ', title='Koncentracja PM2.5 w czasie')\n",
    "fig.update_layout(\n",
    "    yaxis_title=\"Koncentracja PM2.5 [µg/m3]\",\n",
    ")\n",
    "fig.update_yaxes(\n",
    "    dtick=5\n",
    ")\n",
    "fig.show()"
   ],
   "metadata": {
    "collapsed": false
   },
   "id": "704bc3a721d20c0c"
  },
  {
   "cell_type": "markdown",
   "source": [
    "Koncentracja PM4p0"
   ],
   "metadata": {
    "collapsed": false
   },
   "id": "8828e2bfbd86c5"
  },
  {
   "cell_type": "code",
   "execution_count": null,
   "outputs": [],
   "source": [
    "fig = px.line(df, x = 'Czas', y = 'Koncentracja PM4p0 ', title='Koncentracja PM4.0 w czasie')\n",
    "fig.update_layout(\n",
    "    yaxis_title=\"Koncentracja PM4.0 [µg/m3]\",\n",
    ")\n",
    "fig.update_yaxes(\n",
    "    dtick=5\n",
    ")\n",
    "fig.show()"
   ],
   "metadata": {
    "collapsed": false
   },
   "id": "6870b04094eb01f0"
  },
  {
   "cell_type": "markdown",
   "source": [
    "Koncentracja PM10p0"
   ],
   "metadata": {
    "collapsed": false
   },
   "id": "eb8813bcfdc6038e"
  },
  {
   "cell_type": "code",
   "execution_count": null,
   "outputs": [],
   "source": [
    "fig = px.line(df, x = 'Czas', y = 'Koncentracja PM10p0 ', title='Koncentracja PM10.0 w czasie')\n",
    "fig.update_layout(\n",
    "    yaxis_title=\"Koncentracja PM10.0 [µg/m3]\",\n",
    ")\n",
    "fig.update_yaxes(\n",
    "    dtick=5\n",
    ")\n",
    "fig.show()"
   ],
   "metadata": {
    "collapsed": false
   },
   "id": "47816f1c6bad4521"
  },
  {
   "cell_type": "markdown",
   "source": [
    "SEN54 temperatura "
   ],
   "metadata": {
    "collapsed": false
   },
   "id": "87fbd1e8ac4814b6"
  },
  {
   "cell_type": "code",
   "execution_count": null,
   "outputs": [],
   "source": [
    "fig = px.line(df, x = 'Czas', y = 'SEN54 temperatura ', title='Temperatura SEN54 w czasie')\n",
    "fig.update_layout(\n",
    "    yaxis_title=\"Temperatura SEN54 [°C]\",\n",
    ")\n",
    "fig.update_yaxes(\n",
    "    dtick=0.5\n",
    ")\n",
    "fig.show()"
   ],
   "metadata": {
    "collapsed": false
   },
   "id": "8fa747ec0e522164"
  },
  {
   "cell_type": "markdown",
   "source": [
    "SEN54 wilgotność"
   ],
   "metadata": {
    "collapsed": false
   },
   "id": "661104a32fc6af5b"
  },
  {
   "cell_type": "code",
   "execution_count": null,
   "outputs": [],
   "source": [
    "fig = px.line(df, x = 'Czas', y = 'SEN54 wilgotność', title='Wilgotność SEN54 w czasie')\n",
    "fig.update_layout(\n",
    "    yaxis_title=\"Wilgotność SEN54 [%]\",\n",
    ")\n",
    "fig.update_yaxes(\n",
    "    dtick=1.5\n",
    ")\n",
    "fig.show()"
   ],
   "metadata": {
    "collapsed": false
   },
   "id": "a69f621aacadab7d"
  },
  {
   "cell_type": "markdown",
   "source": [
    "VOC index"
   ],
   "metadata": {
    "collapsed": false
   },
   "id": "23dcd34b474565be"
  },
  {
   "cell_type": "code",
   "execution_count": null,
   "outputs": [],
   "source": [
    "fig = px.line(df, x = 'Czas', y = 'VOC index', title='Lotne związki organiczne w czasie')\n",
    "fig.update_layout(\n",
    "    yaxis_title=\"Lotne związki organiczne [ppm]\",\n",
    ")\n",
    "fig.update_yaxes(\n",
    "    dtick=50\n",
    ")\n",
    "fig.show()"
   ],
   "metadata": {
    "collapsed": false
   },
   "id": "643f7e20334e3536"
  },
  {
   "cell_type": "code",
   "execution_count": null,
   "outputs": [],
   "source": [],
   "metadata": {
    "collapsed": false
   },
   "id": "d9ca70bd10a7b199"
  }
 ],
 "metadata": {
  "kernelspec": {
   "display_name": "Python 3",
   "language": "python",
   "name": "python3"
  },
  "language_info": {
   "codemirror_mode": {
    "name": "ipython",
    "version": 2
   },
   "file_extension": ".py",
   "mimetype": "text/x-python",
   "name": "python",
   "nbconvert_exporter": "python",
   "pygments_lexer": "ipython2",
   "version": "2.7.6"
  }
 },
 "nbformat": 4,
 "nbformat_minor": 5
}
