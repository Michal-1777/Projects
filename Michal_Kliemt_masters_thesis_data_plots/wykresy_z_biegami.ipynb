{
 "cells": [
  {
   "cell_type": "code",
   "execution_count": null,
   "outputs": [],
   "source": [
    "import pandas as pd\n",
    "import plotly.express as px\n",
    "import plotly.graph_objects as go\n",
    "from plotly.subplots import make_subplots"
   ],
   "metadata": {
    "collapsed": false
   },
   "id": "325effcefe1bb9ea"
  },
  {
   "cell_type": "code",
   "execution_count": null,
   "outputs": [],
   "source": [
    "df = pd.read_csv('dane_csv.csv', sep=';', encoding='ANSI')\n",
    "df"
   ],
   "metadata": {
    "collapsed": false
   },
   "id": "3ba75aff46ed6e97"
  },
  {
   "cell_type": "markdown",
   "source": [
    "Bieg wyciągu i nadmuchu"
   ],
   "metadata": {
    "collapsed": false
   },
   "id": "e76382ef9b86cfeb"
  },
  {
   "cell_type": "code",
   "execution_count": null,
   "outputs": [],
   "source": [
    "fig = make_subplots(specs=[[{\"secondary_y\": True}]])\n",
    "\n",
    "# Add traces\n",
    "fig.add_trace(\n",
    "    go.Scatter(x=df['Czas'], y=df['Bieg wyciągu'], name=\"Bieg wyciągu\", line_shape='hv'),\n",
    "    secondary_y=False,\n",
    ")\n",
    "\n",
    "fig.add_trace(\n",
    "    go.Scatter(x=df['Czas'], y=df['Bieg nadmuchu'], name=\"Bieg nadmuchu\", line_shape='hv'),\n",
    "    secondary_y=False,\n",
    ")\n",
    "\n",
    "fig.update_layout(\n",
    "    xaxis_title=\"Data\",\n",
    "    legend_title=\"Legenda\",\n",
    ")\n",
    "# Add figure title\n",
    "fig.update_layout(\n",
    "    title_text=\"Biegi wentylatorów w czasie\"\n",
    ")\n",
    "\n",
    "# Set x-axis title\n",
    "fig.update_xaxes(title_text=\"Data\")\n",
    "\n",
    "# Set y-axes titles\n",
    "fig.update_yaxes(title_text=\"Bieg wentylatora\", type='category', secondary_y=False)\n",
    "\n",
    "fig.show()"
   ],
   "metadata": {
    "collapsed": false
   },
   "id": "6147ed765f08bcc2"
  },
  {
   "cell_type": "markdown",
   "source": [
    "Odczyt dym"
   ],
   "metadata": {
    "collapsed": false
   },
   "id": "b7644ca882255280"
  },
  {
   "cell_type": "code",
   "execution_count": null,
   "outputs": [],
   "source": [
    "fig = make_subplots(specs=[[{\"secondary_y\": True}]])\n",
    "\n",
    "# Add traces\n",
    "fig.add_trace(\n",
    "    go.Scatter(x=df['Czas'], y=df['Bieg wyciągu'], name=\"Bieg wyciągu\", line_shape='hv'),\n",
    "    secondary_y=False,\n",
    ")\n",
    "\n",
    "fig.add_trace(\n",
    "    go.Scatter(x=df['Czas'], y=df['Bieg nadmuchu'], name=\"Bieg nadmuchu\", line_shape='hv'),\n",
    "    secondary_y=False,\n",
    ")\n",
    "\n",
    "fig.add_trace(\n",
    "    go.Scatter(x=df['Czas'], y=df['Odczyt dym'], name=\"Odczyt dym\"),\n",
    "    secondary_y=True,\n",
    ")\n",
    "\n",
    "# Add figure title\n",
    "fig.update_layout(\n",
    "    title_text=\"Odczyt dymu i biegi wentylatorów w czasie\"\n",
    ")\n",
    "fig.update_layout(\n",
    "    xaxis_title=\"Data\",\n",
    "    legend_title=\"Legenda\",\n",
    ")\n",
    "\n",
    "# Set x-axis title\n",
    "fig.update_xaxes(title_text=\"Data\")\n",
    "\n",
    "# Set y-axes titles\n",
    "fig.update_yaxes(title_text=\"Bieg wentylatora\", type='category', secondary_y=False)\n",
    "fig.update_yaxes(title_text=\"Odczyt dymu\", dtick=10, secondary_y=True)\n",
    "\n",
    "fig.show()"
   ],
   "metadata": {
    "collapsed": false
   },
   "id": "825b39e48a807007"
  },
  {
   "cell_type": "markdown",
   "source": [
    "Odczyt tlenku węgla"
   ],
   "metadata": {
    "collapsed": false
   },
   "id": "7dc8f1e5268cb163"
  },
  {
   "cell_type": "code",
   "execution_count": null,
   "outputs": [],
   "source": [
    "fig = make_subplots(specs=[[{\"secondary_y\": True}]])\n",
    "\n",
    "# Add traces\n",
    "fig.add_trace(\n",
    "    go.Scatter(x=df['Czas'], y=df['Bieg wyciągu'], name=\"Bieg wyciągu\", line_shape='hv'),\n",
    "    secondary_y=False,\n",
    ")\n",
    "\n",
    "fig.add_trace(\n",
    "    go.Scatter(x=df['Czas'], y=df['Bieg nadmuchu'], name=\"Bieg nadmuchu\", line_shape='hv'),\n",
    "    secondary_y=False,\n",
    ")\n",
    "\n",
    "fig.add_trace(\n",
    "    go.Scatter(x=df['Czas'], y=df['Odczyt tlenku węgla'], name=\"Odczyt tlenku węgla\"),\n",
    "    secondary_y=True,\n",
    ")\n",
    "\n",
    "# Add figure title\n",
    "fig.update_layout(\n",
    "    title_text=\"Odczyt tlenku węgla i biegi wentylatorów w czasie\"\n",
    ")\n",
    "fig.update_layout(\n",
    "    xaxis_title=\"Data\",\n",
    "    legend_title=\"Legenda\",\n",
    ")\n",
    "\n",
    "# Set x-axis title\n",
    "fig.update_xaxes(title_text=\"Data\")\n",
    "\n",
    "# Set y-axes titles\n",
    "fig.update_yaxes(title_text=\"Bieg wentylatora\", type='category', secondary_y=False)\n",
    "fig.update_yaxes(title_text=\"Odczyt tlenku węgla\", dtick=20, secondary_y=True)\n",
    "\n",
    "fig.show()"
   ],
   "metadata": {
    "collapsed": false
   },
   "id": "582a5fe306df2ea0"
  },
  {
   "cell_type": "markdown",
   "source": [
    "Temperatura zewnętrzna"
   ],
   "metadata": {
    "collapsed": false
   },
   "id": "8d593e6601c4120f"
  },
  {
   "cell_type": "code",
   "execution_count": null,
   "outputs": [],
   "source": [
    "fig = make_subplots(specs=[[{\"secondary_y\": True}]])\n",
    "\n",
    "# Add traces\n",
    "fig.add_trace(\n",
    "    go.Scatter(x=df['Czas'], y=df['Bieg wyciągu'], name=\"Bieg wyciągu\", line_shape='hv'),\n",
    "    secondary_y=False,\n",
    ")\n",
    "\n",
    "fig.add_trace(\n",
    "    go.Scatter(x=df['Czas'], y=df['Bieg nadmuchu'], name=\"Bieg nadmuchu\", line_shape='hv'),\n",
    "    secondary_y=False,\n",
    ")\n",
    "\n",
    "fig.add_trace(\n",
    "    go.Scatter(x=df['Czas'], y=df['Temperatura zewnętrzna'], name=\"Temperatura zewnętrzna\"),\n",
    "    secondary_y=True,\n",
    ")\n",
    "\n",
    "# Add figure title\n",
    "fig.update_layout(\n",
    "    title_text=\"Temperatura zewnętrzna i biegi wentylatorów w czasie\"\n",
    ")\n",
    "fig.update_layout(\n",
    "    xaxis_title=\"Data\",\n",
    "    legend_title=\"Legenda\",\n",
    ")\n",
    "\n",
    "# Set x-axis title\n",
    "fig.update_xaxes(title_text=\"Data\")\n",
    "\n",
    "# Set y-axes titles\n",
    "fig.update_yaxes(title_text=\"Bieg wentylatora\", type='category', secondary_y=False)\n",
    "fig.update_yaxes(title_text=\"Temperatura zewnętrzna [°C]\", dtick=2.5, secondary_y=True)\n",
    "\n",
    "fig.show()"
   ],
   "metadata": {
    "collapsed": false
   },
   "id": "4553d90dda5955fd"
  },
  {
   "cell_type": "markdown",
   "source": [
    "Temperatura góra"
   ],
   "metadata": {
    "collapsed": false
   },
   "id": "3abb76a245c8ea8a"
  },
  {
   "cell_type": "code",
   "execution_count": null,
   "outputs": [],
   "source": [
    "fig = make_subplots(specs=[[{\"secondary_y\": True}]])\n",
    "\n",
    "# Add traces\n",
    "fig.add_trace(\n",
    "    go.Scatter(x=df['Czas'], y=df['Bieg wyciągu'], name=\"Bieg wyciągu\", line_shape='hv'),\n",
    "    secondary_y=False,\n",
    ")\n",
    "\n",
    "fig.add_trace(\n",
    "    go.Scatter(x=df['Czas'], y=df['Bieg nadmuchu'], name=\"Bieg nadmuchu\", line_shape='hv'),\n",
    "    secondary_y=False,\n",
    ")\n",
    "\n",
    "fig.add_trace(\n",
    "    go.Scatter(x=df['Czas'], y=df['Temperatura góra'], name=\"Temperatura poddasza\"),\n",
    "    secondary_y=True,\n",
    ")\n",
    "\n",
    "# Add figure title\n",
    "fig.update_layout(\n",
    "    title_text=\"Temperatura poddasza i biegi wentylatorów w czasie\"\n",
    ")\n",
    "fig.update_layout(\n",
    "    xaxis_title=\"Data\",\n",
    "    legend_title=\"Legenda\",\n",
    ")\n",
    "\n",
    "# Set x-axis title\n",
    "fig.update_xaxes(title_text=\"Data\")\n",
    "\n",
    "# Set y-axes titles\n",
    "fig.update_yaxes(title_text=\"Bieg wentylatora\", type='category', secondary_y=False)\n",
    "fig.update_yaxes(title_text=\"Temperatura poddasza [°C]\", dtick=1, secondary_y=True)\n",
    "\n",
    "fig.show()"
   ],
   "metadata": {
    "collapsed": false
   },
   "id": "475d236025dcd5a5"
  },
  {
   "cell_type": "markdown",
   "source": [
    "Temperatura powietrza napływającego"
   ],
   "metadata": {
    "collapsed": false
   },
   "id": "d50f425f82722d13"
  },
  {
   "cell_type": "code",
   "execution_count": null,
   "outputs": [],
   "source": [
    "fig = make_subplots(specs=[[{\"secondary_y\": True}]])\n",
    "\n",
    "# Add traces\n",
    "fig.add_trace(\n",
    "    go.Scatter(x=df['Czas'], y=df['Bieg wyciągu'], name=\"Bieg wyciągu\", line_shape='hv'),\n",
    "    secondary_y=False,\n",
    ")\n",
    "\n",
    "fig.add_trace(\n",
    "    go.Scatter(x=df['Czas'], y=df['Bieg nadmuchu'], name=\"Bieg nadmuchu\", line_shape='hv'),\n",
    "    secondary_y=False,\n",
    ")\n",
    "\n",
    "fig.add_trace(\n",
    "    go.Scatter(x=df['Czas'], y=df['Temperatura pomieszczenie gospodarcze'], name=\"Temperatura powietrza napływającego\"),\n",
    "    secondary_y=True,\n",
    ")\n",
    "\n",
    "# Add figure title\n",
    "fig.update_layout(\n",
    "    title_text=\"Temperatura powietrza napływającego i biegi wentylatorów w czasie\"\n",
    ")\n",
    "fig.update_layout(\n",
    "    xaxis_title=\"Data\",\n",
    "    legend_title=\"Legenda\",\n",
    ")\n",
    "\n",
    "# Set x-axis title\n",
    "fig.update_xaxes(title_text=\"Data\")\n",
    "\n",
    "# Set y-axes titles\n",
    "fig.update_yaxes(title_text=\"Bieg wentylatora\", type='category', secondary_y=False)\n",
    "fig.update_yaxes(title_text=\"Temperatura powietrza napływającego [°C]\", dtick=1.5, secondary_y=True)\n",
    "\n",
    "fig.show()"
   ],
   "metadata": {
    "collapsed": false
   },
   "id": "3edb33937c11843c"
  },
  {
   "cell_type": "markdown",
   "source": [
    "Temperatura kuchnia"
   ],
   "metadata": {
    "collapsed": false
   },
   "id": "2034c3d569f196bf"
  },
  {
   "cell_type": "code",
   "execution_count": null,
   "outputs": [],
   "source": [
    "fig = make_subplots(specs=[[{\"secondary_y\": True}]])\n",
    "\n",
    "# Add traces\n",
    "fig.add_trace(\n",
    "    go.Scatter(x=df['Czas'], y=df['Bieg wyciągu'], name=\"Bieg wyciągu\", line_shape='hv'),\n",
    "    secondary_y=False,\n",
    ")\n",
    "\n",
    "fig.add_trace(\n",
    "    go.Scatter(x=df['Czas'], y=df['Bieg nadmuchu'], name=\"Bieg nadmuchu\", line_shape='hv'),\n",
    "    secondary_y=False,\n",
    ")\n",
    "\n",
    "fig.add_trace(\n",
    "    go.Scatter(x=df['Czas'], y=df['Temperatura kuchnia'], name=\"Temperatura kuchni\"),\n",
    "    secondary_y=True,\n",
    ")\n",
    "\n",
    "# Add figure title\n",
    "fig.update_layout(\n",
    "    title_text=\"Temperatura kuchni i biegi wentylatorów w czasie\"\n",
    ")\n",
    "fig.update_layout(\n",
    "    xaxis_title=\"Data\",\n",
    "    legend_title=\"Legenda\",\n",
    ")\n",
    "\n",
    "# Set x-axis title\n",
    "fig.update_xaxes(title_text=\"Data\")\n",
    "\n",
    "# Set y-axes titles\n",
    "fig.update_yaxes(title_text=\"Bieg wentylatora\", type='category', secondary_y=False)\n",
    "fig.update_yaxes(title_text=\"Temperatura kuchnia [°C]\", dtick=0.5, secondary_y=True)\n",
    "\n",
    "fig.show()"
   ],
   "metadata": {
    "collapsed": false
   },
   "id": "33477fd21108b67a"
  },
  {
   "cell_type": "markdown",
   "source": [
    "Temperatura łazienka"
   ],
   "metadata": {
    "collapsed": false
   },
   "id": "df88d1c1aad7e985"
  },
  {
   "cell_type": "code",
   "execution_count": null,
   "outputs": [],
   "source": [
    "fig = make_subplots(specs=[[{\"secondary_y\": True}]])\n",
    "\n",
    "# Add traces\n",
    "fig.add_trace(\n",
    "    go.Scatter(x=df['Czas'], y=df['Bieg wyciągu'], name=\"Bieg wyciągu\", line_shape='hv'),\n",
    "    secondary_y=False,\n",
    ")\n",
    "\n",
    "fig.add_trace(\n",
    "    go.Scatter(x=df['Czas'], y=df['Bieg nadmuchu'], name=\"Bieg nadmuchu\", line_shape='hv'),\n",
    "    secondary_y=False,\n",
    ")\n",
    "\n",
    "fig.add_trace(\n",
    "    go.Scatter(x=df['Czas'], y=df['Temperatura łazienka'], name=\"Temperatura łazienki\"),\n",
    "    secondary_y=True,\n",
    ")\n",
    "\n",
    "# Add figure title\n",
    "fig.update_layout(\n",
    "    title_text=\"Temperatura łazienki i biegi wentylatorów w czasie\"\n",
    ")\n",
    "fig.update_layout(\n",
    "    xaxis_title=\"Data\",\n",
    "    legend_title=\"Legenda\",\n",
    ")\n",
    "\n",
    "# Set x-axis title\n",
    "fig.update_xaxes(title_text=\"Data\")\n",
    "\n",
    "# Set y-axes titles\n",
    "fig.update_yaxes(title_text=\"Bieg wentylatora\", type='category', secondary_y=False)\n",
    "fig.update_yaxes(title_text=\"Temperatura łazienki [°C]\", dtick=0.5, secondary_y=True)\n",
    "\n",
    "fig.show()"
   ],
   "metadata": {
    "collapsed": false
   },
   "id": "7daeea06bdf44425"
  },
  {
   "cell_type": "markdown",
   "source": [
    "Ciśnienie kuchnia"
   ],
   "metadata": {
    "collapsed": false
   },
   "id": "feef542330a33d9d"
  },
  {
   "cell_type": "code",
   "execution_count": null,
   "outputs": [],
   "source": [
    "fig = make_subplots(specs=[[{\"secondary_y\": True}]])\n",
    "\n",
    "# Add traces\n",
    "fig.add_trace(\n",
    "    go.Scatter(x=df['Czas'], y=df['Bieg wyciągu'], name=\"Bieg wyciągu\", line_shape='hv'),\n",
    "    secondary_y=False,\n",
    ")\n",
    "\n",
    "fig.add_trace(\n",
    "    go.Scatter(x=df['Czas'], y=df['Bieg nadmuchu'], name=\"Bieg nadmuchu\", line_shape='hv'),\n",
    "    secondary_y=False,\n",
    ")\n",
    "\n",
    "fig.add_trace(\n",
    "    go.Scatter(x=df['Czas'], y=df['Ciśnienie kuchia'], name=\"Ciśnienie kuchnia\"),\n",
    "    secondary_y=True,\n",
    ")\n",
    "\n",
    "# Add figure title\n",
    "fig.update_layout(\n",
    "    title_text=\"Ciśnienie kuchni i biegi wentylatorów w czasie\"\n",
    ")\n",
    "fig.update_layout(\n",
    "    xaxis_title=\"Data\",\n",
    "    legend_title=\"Legenda\",\n",
    ")\n",
    "\n",
    "# Set x-axis title\n",
    "fig.update_xaxes(title_text=\"Data\")\n",
    "\n",
    "# Set y-axes titles\n",
    "fig.update_yaxes(title_text=\"Bieg wentylatora\", type='category', secondary_y=False)\n",
    "fig.update_yaxes(title_text=\"Ciśnienie kuchnia [hPa]\", dtick=5, secondary_y=True)\n",
    "\n",
    "fig.show()"
   ],
   "metadata": {
    "collapsed": false
   },
   "id": "b8c7b612221e8300"
  },
  {
   "cell_type": "markdown",
   "source": [
    "Ciśnienie łazienka"
   ],
   "metadata": {
    "collapsed": false
   },
   "id": "637699a6c16e5ad7"
  },
  {
   "cell_type": "code",
   "execution_count": null,
   "outputs": [],
   "source": [
    "fig = make_subplots(specs=[[{\"secondary_y\": True}]])\n",
    "\n",
    "# Add traces\n",
    "fig.add_trace(\n",
    "    go.Scatter(x=df['Czas'], y=df['Bieg wyciągu'], name=\"Bieg wyciągu\", line_shape='hv'),\n",
    "    secondary_y=False,\n",
    ")\n",
    "\n",
    "fig.add_trace(\n",
    "    go.Scatter(x=df['Czas'], y=df['Bieg nadmuchu'], name=\"Bieg nadmuchu\", line_shape='hv'),\n",
    "    secondary_y=False,\n",
    ")\n",
    "\n",
    "fig.add_trace(\n",
    "    go.Scatter(x=df['Czas'], y=df['Ciśnienie łazienka'], name=\"Ciśnienie łazienka\"),\n",
    "    secondary_y=True,\n",
    ")\n",
    "\n",
    "# Add figure title\n",
    "fig.update_layout(\n",
    "    title_text=\"Ciśnienie łazienki i biegi wentylatorów w czasie\"\n",
    ")\n",
    "fig.update_layout(\n",
    "    xaxis_title=\"Data\",\n",
    "    legend_title=\"Legenda\",\n",
    ")\n",
    "\n",
    "# Set x-axis title\n",
    "fig.update_xaxes(title_text=\"Data\")\n",
    "\n",
    "# Set y-axes titles\n",
    "fig.update_yaxes(title_text=\"Bieg wentylatora\", type='category', secondary_y=False)\n",
    "fig.update_yaxes(title_text=\"Ciśnienie łazienka [hPa]\", dtick=5, secondary_y=True)\n",
    "\n",
    "fig.show()"
   ],
   "metadata": {
    "collapsed": false
   },
   "id": "978e04a0228b4315"
  },
  {
   "cell_type": "markdown",
   "source": [
    "Wilgotność kuchnia"
   ],
   "metadata": {
    "collapsed": false
   },
   "id": "fb05c99847bdb6bc"
  },
  {
   "cell_type": "code",
   "execution_count": null,
   "outputs": [],
   "source": [
    "fig = make_subplots(specs=[[{\"secondary_y\": True}]])\n",
    "\n",
    "# Add traces\n",
    "fig.add_trace(\n",
    "    go.Scatter(x=df['Czas'], y=df['Bieg wyciągu'], name=\"Bieg wyciągu\", line_shape='hv'),\n",
    "    secondary_y=False,\n",
    ")\n",
    "\n",
    "fig.add_trace(\n",
    "    go.Scatter(x=df['Czas'], y=df['Bieg nadmuchu'], name=\"Bieg nadmuchu\", line_shape='hv'),\n",
    "    secondary_y=False,\n",
    ")\n",
    "\n",
    "fig.add_trace(\n",
    "    go.Scatter(x=df['Czas'], y=df['Wilgotność kuchnia'], name=\"Wilgotność kuchnia\"),\n",
    "    secondary_y=True,\n",
    ")\n",
    "\n",
    "# Add figure title\n",
    "fig.update_layout(\n",
    "    title_text=\"Wilgotność kuchni i biegi wentylatorów w czasie\"\n",
    ")\n",
    "fig.update_layout(\n",
    "    xaxis_title=\"Data\",\n",
    "    legend_title=\"Legenda\",\n",
    ")\n",
    "\n",
    "# Set x-axis title\n",
    "fig.update_xaxes(title_text=\"Data\")\n",
    "\n",
    "# Set y-axes titles\n",
    "fig.update_yaxes(title_text=\"Bieg wentylatora\", type='category', secondary_y=False)\n",
    "fig.update_yaxes(title_text=\"Wilgotność kuchnia [%]\", dtick=2, secondary_y=True)\n",
    "\n",
    "fig.show()"
   ],
   "metadata": {
    "collapsed": false
   },
   "id": "5e55795aab07ec9a"
  },
  {
   "cell_type": "markdown",
   "source": [
    "Wilgotność łazienka"
   ],
   "metadata": {
    "collapsed": false
   },
   "id": "8948d54b72e959d2"
  },
  {
   "cell_type": "code",
   "execution_count": null,
   "outputs": [],
   "source": [
    "fig = make_subplots(specs=[[{\"secondary_y\": True}]])\n",
    "\n",
    "# Add traces\n",
    "fig.add_trace(\n",
    "    go.Scatter(x=df['Czas'], y=df['Bieg wyciągu'], name=\"Bieg wyciągu\", line_shape='hv'),\n",
    "    secondary_y=False,\n",
    ")\n",
    "\n",
    "fig.add_trace(\n",
    "    go.Scatter(x=df['Czas'], y=df['Bieg nadmuchu'], name=\"Bieg nadmuchu\", line_shape='hv'),\n",
    "    secondary_y=False,\n",
    ")\n",
    "\n",
    "fig.add_trace(\n",
    "    go.Scatter(x=df['Czas'], y=df['Wilgotność łazienka'], name=\"Wilgotność łazienka\"),\n",
    "    secondary_y=True,\n",
    ")\n",
    "\n",
    "# Add figure title\n",
    "fig.update_layout(\n",
    "    title_text=\"Wilgotność łazienki i biegi wentylatorów w czasie\"\n",
    ")\n",
    "fig.update_layout(\n",
    "    xaxis_title=\"Data\",\n",
    "    legend_title=\"Legenda\",\n",
    ")\n",
    "\n",
    "# Set x-axis title\n",
    "fig.update_xaxes(title_text=\"Data\")\n",
    "\n",
    "# Set y-axes titles\n",
    "fig.update_yaxes(title_text=\"Bieg wentylatora\", type='category', secondary_y=False)\n",
    "fig.update_yaxes(title_text=\"Wilgotność łazienka [%]\", dtick=5, secondary_y=True)\n",
    "\n",
    "fig.show()"
   ],
   "metadata": {
    "collapsed": false
   },
   "id": "4c272e27bc6ebb70"
  },
  {
   "cell_type": "markdown",
   "source": [
    "Średnia temperatura bez góry"
   ],
   "metadata": {
    "collapsed": false
   },
   "id": "1787e372c6408d29"
  },
  {
   "cell_type": "code",
   "execution_count": null,
   "outputs": [],
   "source": [
    "fig = make_subplots(specs=[[{\"secondary_y\": True}]])\n",
    "\n",
    "# Add traces\n",
    "fig.add_trace(\n",
    "    go.Scatter(x=df['Czas'], y=df['Bieg wyciągu'], name=\"Bieg wyciągu\", line_shape='hv'),\n",
    "    secondary_y=False,\n",
    ")\n",
    "\n",
    "fig.add_trace(\n",
    "    go.Scatter(x=df['Czas'], y=df['Bieg nadmuchu'], name=\"Bieg nadmuchu\", line_shape='hv'),\n",
    "    secondary_y=False,\n",
    ")\n",
    "\n",
    "fig.add_trace(\n",
    "    go.Scatter(x=df['Czas'], y=df['Średnia temperatura bez góry'], name=\"Średnia temperatura bez poddasza\"),\n",
    "    secondary_y=True,\n",
    ")\n",
    "\n",
    "# Add figure title\n",
    "fig.update_layout(\n",
    "    title_text=\"Średnia temperatura bez poddasza i biegi wentylatorów w czasie\"\n",
    ")\n",
    "fig.update_layout(\n",
    "    xaxis_title=\"Data\",\n",
    "    legend_title=\"Legenda\",\n",
    ")\n",
    "\n",
    "# Set x-axis title\n",
    "fig.update_xaxes(title_text=\"Data\")\n",
    "\n",
    "# Set y-axes titles\n",
    "fig.update_yaxes(title_text=\"Bieg wentylatora\", type='category', secondary_y=False)\n",
    "fig.update_yaxes(title_text=\"Średnia temperatura bez poddasza [°C]\", dtick=0.5, secondary_y=True)\n",
    "\n",
    "fig.show()"
   ],
   "metadata": {
    "collapsed": false
   },
   "id": "564e9272ddb3ea4e"
  },
  {
   "cell_type": "markdown",
   "source": [
    "Średnia temperatura z góra"
   ],
   "metadata": {
    "collapsed": false
   },
   "id": "99955afbe922af40"
  },
  {
   "cell_type": "code",
   "execution_count": null,
   "outputs": [],
   "source": [
    "fig = make_subplots(specs=[[{\"secondary_y\": True}]])\n",
    "\n",
    "# Add traces\n",
    "fig.add_trace(\n",
    "    go.Scatter(x=df['Czas'], y=df['Bieg wyciągu'], name=\"Bieg wyciągu\", line_shape='hv'),\n",
    "    secondary_y=False,\n",
    ")\n",
    "\n",
    "fig.add_trace(\n",
    "    go.Scatter(x=df['Czas'], y=df['Bieg nadmuchu'], name=\"Bieg nadmuchu\", line_shape='hv'),\n",
    "    secondary_y=False,\n",
    ")\n",
    "\n",
    "fig.add_trace(\n",
    "    go.Scatter(x=df['Czas'], y=df['Średnia temperatura z góra'], name=\"Średnia temperatura z poddaszem\"),\n",
    "    secondary_y=True,\n",
    ")\n",
    "\n",
    "# Add figure title\n",
    "fig.update_layout(\n",
    "    title_text=\"Średnia temperatura z poddaszem i biegi wentylatorów w czasie\"\n",
    ")\n",
    "fig.update_layout(\n",
    "    xaxis_title=\"Data\",\n",
    "    legend_title=\"Legenda\",\n",
    ")\n",
    "\n",
    "# Set x-axis title\n",
    "fig.update_xaxes(title_text=\"Data\")\n",
    "\n",
    "# Set y-axes titles\n",
    "fig.update_yaxes(title_text=\"Bieg wentylatora\", type='category', secondary_y=False)\n",
    "fig.update_yaxes(title_text=\"Średnia temperatura z poddaszem [°C]\", dtick=0.5, secondary_y=True)\n",
    "\n",
    "fig.show()"
   ],
   "metadata": {
    "collapsed": false
   },
   "id": "e25ac9e80fd60187"
  },
  {
   "cell_type": "markdown",
   "source": [
    "Średnia wilgotność"
   ],
   "metadata": {
    "collapsed": false
   },
   "id": "4a8f25b0b9347fe6"
  },
  {
   "cell_type": "code",
   "execution_count": null,
   "outputs": [],
   "source": [
    "fig = make_subplots(specs=[[{\"secondary_y\": True}]])\n",
    "\n",
    "# Add traces\n",
    "fig.add_trace(\n",
    "    go.Scatter(x=df['Czas'], y=df['Bieg wyciągu'], name=\"Bieg wyciągu\", line_shape='hv'),\n",
    "    secondary_y=False,\n",
    ")\n",
    "\n",
    "fig.add_trace(\n",
    "    go.Scatter(x=df['Czas'], y=df['Bieg nadmuchu'], name=\"Bieg nadmuchu\", line_shape='hv'),\n",
    "    secondary_y=False,\n",
    ")\n",
    "\n",
    "fig.add_trace(\n",
    "    go.Scatter(x=df['Czas'], y=df['Średnia wilgotność'], name=\"Średnia wilgotność\"),\n",
    "    secondary_y=True,\n",
    ")\n",
    "\n",
    "# Add figure title\n",
    "fig.update_layout(\n",
    "    title_text=\"Średnia wilgotność i biegi wentylatorów w czasie\"\n",
    ")\n",
    "fig.update_layout(\n",
    "    xaxis_title=\"Data\",\n",
    "    legend_title=\"Legenda\",\n",
    ")\n",
    "\n",
    "# Set x-axis title\n",
    "fig.update_xaxes(title_text=\"Data\")\n",
    "\n",
    "# Set y-axes titles\n",
    "fig.update_yaxes(title_text=\"Bieg wentylatora\", type='category', secondary_y=False)\n",
    "fig.update_yaxes(title_text=\"Średnia wilgotność [%]\", dtick=2.5, secondary_y=True)\n",
    "\n",
    "fig.show()"
   ],
   "metadata": {
    "collapsed": false
   },
   "id": "14e99d62c9e42775"
  },
  {
   "cell_type": "markdown",
   "source": [
    "Koncentracja PM1p0 "
   ],
   "metadata": {
    "collapsed": false
   },
   "id": "64b9db609b35be7b"
  },
  {
   "cell_type": "code",
   "execution_count": null,
   "outputs": [],
   "source": [
    "fig = make_subplots(specs=[[{\"secondary_y\": True}]])\n",
    "\n",
    "# Add traces\n",
    "fig.add_trace(\n",
    "    go.Scatter(x=df['Czas'], y=df['Bieg wyciągu'], name=\"Bieg wyciągu\", line_shape='hv'),\n",
    "    secondary_y=False,\n",
    ")\n",
    "\n",
    "fig.add_trace(\n",
    "    go.Scatter(x=df['Czas'], y=df['Bieg nadmuchu'], name=\"Bieg nadmuchu\", line_shape='hv'),\n",
    "    secondary_y=False,\n",
    ")\n",
    "\n",
    "fig.add_trace(\n",
    "    go.Scatter(x=df['Czas'], y=df['Koncentracja PM1p0 '], name=\"Koncentracja PM1.0\"),\n",
    "    secondary_y=True,\n",
    ")\n",
    "\n",
    "# Add figure title\n",
    "fig.update_layout(\n",
    "    title_text=\"Koncentracja PM1.0 i biegi wentylatorów w czasie\"\n",
    ")\n",
    "fig.update_layout(\n",
    "    xaxis_title=\"Data\",\n",
    "    legend_title=\"Legenda\",\n",
    ")\n",
    "\n",
    "# Set x-axis title\n",
    "fig.update_xaxes(title_text=\"Data\")\n",
    "\n",
    "# Set y-axes titles\n",
    "fig.update_yaxes(title_text=\"Bieg wentylatora\", type='category', secondary_y=False)\n",
    "fig.update_yaxes(title_text=\"Koncentracja PM1.0 [µg/m3]\", dtick=5, secondary_y=True)\n",
    "\n",
    "fig.show()"
   ],
   "metadata": {
    "collapsed": false
   },
   "id": "83f26b5d159bfcc2"
  },
  {
   "cell_type": "markdown",
   "source": [
    "Koncentracja PM2p5"
   ],
   "metadata": {
    "collapsed": false
   },
   "id": "9cec1607e7a35c73"
  },
  {
   "cell_type": "code",
   "execution_count": null,
   "outputs": [],
   "source": [
    "fig = make_subplots(specs=[[{\"secondary_y\": True}]])\n",
    "\n",
    "# Add traces\n",
    "fig.add_trace(\n",
    "    go.Scatter(x=df['Czas'], y=df['Bieg wyciągu'], name=\"Bieg wyciągu\", line_shape='hv'),\n",
    "    secondary_y=False,\n",
    ")\n",
    "\n",
    "fig.add_trace(\n",
    "    go.Scatter(x=df['Czas'], y=df['Bieg nadmuchu'], name=\"Bieg nadmuchu\", line_shape='hv'),\n",
    "    secondary_y=False,\n",
    ")\n",
    "\n",
    "fig.add_trace(\n",
    "    go.Scatter(x=df['Czas'], y=df['Koncentracja PM2p5 '], name=\"Koncentracja PM2.5\"),\n",
    "    secondary_y=True,\n",
    ")\n",
    "\n",
    "# Add figure title\n",
    "fig.update_layout(\n",
    "    title_text=\"Koncentracja PM2.5 i biegi wentylatorów w czasie\"\n",
    ")\n",
    "fig.update_layout(\n",
    "    xaxis_title=\"Data\",\n",
    "    legend_title=\"Legenda\",\n",
    ")\n",
    "\n",
    "# Set x-axis title\n",
    "fig.update_xaxes(title_text=\"Data\")\n",
    "\n",
    "# Set y-axes titles\n",
    "fig.update_yaxes(title_text=\"Bieg wentylatora\", type='category', secondary_y=False)\n",
    "fig.update_yaxes(title_text=\"Koncentracja PM2.5 [µg/m3]\", dtick=5, secondary_y=True)\n",
    "\n",
    "fig.show()"
   ],
   "metadata": {
    "collapsed": false
   },
   "id": "e9f21c80c0ad6aff"
  },
  {
   "cell_type": "markdown",
   "source": [
    "Koncentracja PM4p0 "
   ],
   "metadata": {
    "collapsed": false
   },
   "id": "8ac31f69c6245bd4"
  },
  {
   "cell_type": "code",
   "execution_count": null,
   "outputs": [],
   "source": [
    "fig = make_subplots(specs=[[{\"secondary_y\": True}]])\n",
    "\n",
    "# Add traces\n",
    "fig.add_trace(\n",
    "    go.Scatter(x=df['Czas'], y=df['Bieg wyciągu'], name=\"Bieg wyciągu\", line_shape='hv'),\n",
    "    secondary_y=False,\n",
    ")\n",
    "\n",
    "fig.add_trace(\n",
    "    go.Scatter(x=df['Czas'], y=df['Bieg nadmuchu'], name=\"Bieg nadmuchu\", line_shape='hv'),\n",
    "    secondary_y=False,\n",
    ")\n",
    "\n",
    "fig.add_trace(\n",
    "    go.Scatter(x=df['Czas'], y=df['Koncentracja PM4p0 '], name=\"Koncentracja PM4.0\"),\n",
    "    secondary_y=True,\n",
    ")\n",
    "\n",
    "# Add figure title\n",
    "fig.update_layout(\n",
    "    title_text=\"Koncentracja PM4.0 i biegi wentylatorów w czasie\"\n",
    ")\n",
    "fig.update_layout(\n",
    "    xaxis_title=\"Data\",\n",
    "    legend_title=\"Legenda\",\n",
    ")\n",
    "\n",
    "# Set x-axis title\n",
    "fig.update_xaxes(title_text=\"Data\")\n",
    "\n",
    "# Set y-axes titles\n",
    "fig.update_yaxes(title_text=\"Bieg wentylatora\", type='category', secondary_y=False)\n",
    "fig.update_yaxes(title_text=\"Koncentracja PM4.0 [µg/m3]\", dtick=5, secondary_y=True)\n",
    "\n",
    "fig.show()"
   ],
   "metadata": {
    "collapsed": false
   },
   "id": "246f68e11aec993d"
  },
  {
   "cell_type": "markdown",
   "source": [
    "Koncentracja PM10p0 "
   ],
   "metadata": {
    "collapsed": false
   },
   "id": "283c99446bc4c144"
  },
  {
   "cell_type": "code",
   "execution_count": null,
   "outputs": [],
   "source": [
    "fig = make_subplots(specs=[[{\"secondary_y\": True}]])\n",
    "\n",
    "# Add traces\n",
    "fig.add_trace(\n",
    "    go.Scatter(x=df['Czas'], y=df['Bieg wyciągu'], name=\"Bieg wyciągu\", line_shape='hv'),\n",
    "    secondary_y=False,\n",
    ")\n",
    "\n",
    "fig.add_trace(\n",
    "    go.Scatter(x=df['Czas'], y=df['Bieg nadmuchu'], name=\"Bieg nadmuchu\", line_shape='hv'),\n",
    "    secondary_y=False,\n",
    ")\n",
    "\n",
    "fig.add_trace(\n",
    "    go.Scatter(x=df['Czas'], y=df['Koncentracja PM10p0 '], name=\"Koncentracja PM10.0\"),\n",
    "    secondary_y=True,\n",
    ")\n",
    "\n",
    "# Add figure title\n",
    "fig.update_layout(\n",
    "    title_text=\"Koncentracja PM10.0 i biegi wentylatorów w czasie\"\n",
    ")\n",
    "fig.update_layout(\n",
    "    xaxis_title=\"Data\",\n",
    "    legend_title=\"Legenda\",\n",
    ")\n",
    "\n",
    "# Set x-axis title\n",
    "fig.update_xaxes(title_text=\"Data\")\n",
    "\n",
    "# Set y-axes titles\n",
    "fig.update_yaxes(title_text=\"Bieg wentylatora\", type='category', secondary_y=False)\n",
    "fig.update_yaxes(title_text=\"Koncentracja PM10.0 [µg/m3]\", dtick=5, secondary_y=True)\n",
    "\n",
    "fig.show()"
   ],
   "metadata": {
    "collapsed": false
   },
   "id": "38447e0e8a709bbb"
  },
  {
   "cell_type": "markdown",
   "source": [
    "SEN54 temperatura "
   ],
   "metadata": {
    "collapsed": false
   },
   "id": "5b6f7dfe7d82af8f"
  },
  {
   "cell_type": "code",
   "execution_count": null,
   "outputs": [],
   "source": [
    "fig = make_subplots(specs=[[{\"secondary_y\": True}]])\n",
    "\n",
    "# Add traces\n",
    "fig.add_trace(\n",
    "    go.Scatter(x=df['Czas'], y=df['Bieg wyciągu'], name=\"Bieg wyciągu\", line_shape='hv'),\n",
    "    secondary_y=False,\n",
    ")\n",
    "\n",
    "fig.add_trace(\n",
    "    go.Scatter(x=df['Czas'], y=df['Bieg nadmuchu'], name=\"Bieg nadmuchu\", line_shape='hv'),\n",
    "    secondary_y=False,\n",
    ")\n",
    "\n",
    "fig.add_trace(\n",
    "    go.Scatter(x=df['Czas'], y=df['SEN54 temperatura '], name=\"Temperatura SEN54\"),\n",
    "    secondary_y=True,\n",
    ")\n",
    "\n",
    "# Add figure title\n",
    "fig.update_layout(\n",
    "    title_text=\"Temperatura SEN54 i biegi wentylatorów w czasie\"\n",
    ")\n",
    "fig.update_layout(\n",
    "    xaxis_title=\"Data\",\n",
    "    legend_title=\"Legenda\",\n",
    ")\n",
    "\n",
    "# Set x-axis title\n",
    "fig.update_xaxes(title_text=\"Data\")\n",
    "\n",
    "# Set y-axes titles\n",
    "fig.update_yaxes(title_text=\"Bieg wentylatora\", type='category', secondary_y=False)\n",
    "fig.update_yaxes(title_text=\"Temperatura SEN54 [°C]\", dtick=0.5, secondary_y=True)\n",
    "\n",
    "fig.show()"
   ],
   "metadata": {
    "collapsed": false
   },
   "id": "264624f595de977e"
  },
  {
   "cell_type": "markdown",
   "source": [
    "SEN54 wilgotność"
   ],
   "metadata": {
    "collapsed": false
   },
   "id": "f1008af79b14e759"
  },
  {
   "cell_type": "code",
   "execution_count": null,
   "outputs": [],
   "source": [
    "fig = make_subplots(specs=[[{\"secondary_y\": True}]])\n",
    "\n",
    "# Add traces\n",
    "fig.add_trace(\n",
    "    go.Scatter(x=df['Czas'], y=df['Bieg wyciągu'], name=\"Bieg wyciągu\", line_shape='hv'),\n",
    "    secondary_y=False,\n",
    ")\n",
    "\n",
    "fig.add_trace(\n",
    "    go.Scatter(x=df['Czas'], y=df['Bieg nadmuchu'], name=\"Bieg nadmuchu\", line_shape='hv'),\n",
    "    secondary_y=False,\n",
    ")\n",
    "\n",
    "fig.add_trace(\n",
    "    go.Scatter(x=df['Czas'], y=df['SEN54 wilgotność'], name=\"Wilgotność SEN54\"),\n",
    "    secondary_y=True,\n",
    ")\n",
    "\n",
    "# Add figure title\n",
    "fig.update_layout(\n",
    "    title_text=\"Wilgotność SEN54 i biegi wentylatorów w czasie\"\n",
    ")\n",
    "fig.update_layout(\n",
    "    xaxis_title=\"Data\",\n",
    "    legend_title=\"Legenda\",\n",
    ")\n",
    "\n",
    "# Set x-axis title\n",
    "fig.update_xaxes(title_text=\"Data\")\n",
    "\n",
    "# Set y-axes titles\n",
    "fig.update_yaxes(title_text=\"Bieg wentylatora\", type='category', secondary_y=False)\n",
    "fig.update_yaxes(title_text=\"Wilgotność SEN54 [%]\", dtick=1.5, secondary_y=True)\n",
    "\n",
    "fig.show()"
   ],
   "metadata": {
    "collapsed": false
   },
   "id": "5579b1b45fbfc470"
  },
  {
   "cell_type": "markdown",
   "source": [
    "VOC index"
   ],
   "metadata": {
    "collapsed": false
   },
   "id": "8a27dac208e0506d"
  },
  {
   "cell_type": "code",
   "execution_count": null,
   "outputs": [],
   "source": [
    "fig = make_subplots(specs=[[{\"secondary_y\": True}]])\n",
    "\n",
    "# Add traces\n",
    "fig.add_trace(\n",
    "    go.Scatter(x=df['Czas'], y=df['Bieg wyciągu'], name=\"Bieg wyciągu\", line_shape='hv'),\n",
    "    secondary_y=False,\n",
    ")\n",
    "\n",
    "fig.add_trace(\n",
    "    go.Scatter(x=df['Czas'], y=df['Bieg nadmuchu'], name=\"Bieg nadmuchu\", line_shape='hv'),\n",
    "    secondary_y=False,\n",
    ")\n",
    "\n",
    "fig.add_trace(\n",
    "    go.Scatter(x=df['Czas'], y=df['VOC index'], name=\"Lotne związki organiczne\"),\n",
    "    secondary_y=True,\n",
    ")\n",
    "\n",
    "# Add figure title\n",
    "fig.update_layout(\n",
    "    title_text=\"Lotne związki organiczne i biegi wentylatorów w czasie\"\n",
    ")\n",
    "fig.update_layout(\n",
    "    xaxis_title=\"Data\",\n",
    "    legend_title=\"Legenda\",\n",
    ")\n",
    "\n",
    "# Set x-axis title\n",
    "fig.update_xaxes(title_text=\"Data\")\n",
    "\n",
    "# Set y-axes titles\n",
    "fig.update_yaxes(title_text=\"Bieg wentylatora\", type='category', secondary_y=False)\n",
    "fig.update_yaxes(title_text=\"Lotne związki organiczne [ppm]\", dtick=50, secondary_y=True)\n",
    "\n",
    "fig.show()"
   ],
   "metadata": {
    "collapsed": false
   },
   "id": "5437dc339e7a91f"
  },
  {
   "cell_type": "markdown",
   "source": [
    "Temperatura zewnętrzna, napływająca i średnia temperatura z biegami"
   ],
   "metadata": {
    "collapsed": false
   },
   "id": "41370c80638d7398"
  },
  {
   "cell_type": "code",
   "execution_count": null,
   "outputs": [],
   "source": [
    "fig = make_subplots(specs=[[{\"secondary_y\": True}]])\n",
    "\n",
    "# Add traces\n",
    "fig.add_trace(\n",
    "    go.Scatter(x=df['Czas'], y=df['Bieg wyciągu'], name=\"Bieg wyciągu\", line_shape='hv'),\n",
    "    secondary_y=False,\n",
    ")\n",
    "\n",
    "fig.add_trace(\n",
    "    go.Scatter(x=df['Czas'], y=df['Bieg nadmuchu'], name=\"Bieg nadmuchu\", line_shape='hv'),\n",
    "    secondary_y=False,\n",
    ")\n",
    "\n",
    "fig.add_trace(\n",
    "    go.Scatter(x=df['Czas'], y=df['Średnia temperatura z góra'], name=\"Średnia temperatura z poddaszem\"),\n",
    "    secondary_y=True,\n",
    ")\n",
    "\n",
    "fig.add_trace(\n",
    "    go.Scatter(x=df['Czas'], y=df['Średnia temperatura bez góry'], name=\"Średnia temperatura bez poddasza\"),\n",
    "    secondary_y=True,\n",
    ")\n",
    "\n",
    "fig.add_trace(\n",
    "    go.Scatter(x=df['Czas'], y=df['Temperatura pomieszczenie gospodarcze'], name=\"Temperatura powietrza napływającego\"),\n",
    "    secondary_y=True,\n",
    ")\n",
    "\n",
    "fig.add_trace(\n",
    "    go.Scatter(x=df['Czas'], y=df['Temperatura zewnętrzna'], name=\"Temperatura zewnętrzna\"),\n",
    "    secondary_y=True,\n",
    ")\n",
    "\n",
    "# Add figure title\n",
    "fig.update_layout(\n",
    "    title_text=\"Temperatury w czasie\"\n",
    ")\n",
    "fig.update_layout(\n",
    "    xaxis_title=\"Data\",\n",
    "    legend_title=\"Legenda\",\n",
    ")\n",
    "\n",
    "# Set x-axis title\n",
    "fig.update_xaxes(title_text=\"Data\")\n",
    "\n",
    "# Set y-axes titles\n",
    "fig.update_yaxes(title_text=\"Bieg wentylatora\", type='category', secondary_y=False)\n",
    "fig.update_yaxes(title_text=\"Temperatura [°C]\", dtick=2.5, secondary_y=True)\n",
    "\n",
    "fig.show()"
   ],
   "metadata": {
    "collapsed": false
   },
   "id": "79282bf33d2eba8"
  },
  {
   "cell_type": "markdown",
   "source": [
    "Średnie temperatury z biegami"
   ],
   "metadata": {
    "collapsed": false
   },
   "id": "52fb4b6e05a1181c"
  },
  {
   "cell_type": "code",
   "execution_count": null,
   "outputs": [],
   "source": [
    "fig = make_subplots(specs=[[{\"secondary_y\": True}]])\n",
    "\n",
    "# Add traces\n",
    "fig.add_trace(\n",
    "    go.Scatter(x=df['Czas'], y=df['Bieg wyciągu'], name=\"Bieg wyciągu\", line_shape='hv'),\n",
    "    secondary_y=False,\n",
    ")\n",
    "\n",
    "fig.add_trace(\n",
    "    go.Scatter(x=df['Czas'], y=df['Bieg nadmuchu'], name=\"Bieg nadmuchu\", line_shape='hv'),\n",
    "    secondary_y=False,\n",
    ")\n",
    "\n",
    "fig.add_trace(\n",
    "    go.Scatter(x=df['Czas'], y=df['Średnia temperatura z góra'], name=\"Średnia temperatura z poddaszem\"),\n",
    "    secondary_y=True,\n",
    ")\n",
    "\n",
    "fig.add_trace(\n",
    "    go.Scatter(x=df['Czas'], y=df['Średnia temperatura bez góry'], name=\"Średnia temperatura bez poddasza\"),\n",
    "    secondary_y=True,\n",
    ")\n",
    "\n",
    "# Add figure title\n",
    "fig.update_layout(\n",
    "    title_text=\"Średnie temperatury i biegi wentylatorów w czasie\"\n",
    ")\n",
    "fig.update_layout(\n",
    "    xaxis_title=\"Data\",\n",
    "    legend_title=\"Legenda\",\n",
    ")\n",
    "\n",
    "# Set x-axis title\n",
    "fig.update_xaxes(title_text=\"Data\")\n",
    "\n",
    "# Set y-axes titles\n",
    "fig.update_yaxes(title_text=\"Bieg wentylatora\", type='category', secondary_y=False)\n",
    "fig.update_yaxes(title_text=\"Temperatura [°C]\", dtick=5, secondary_y=True)\n",
    "\n",
    "fig.show()"
   ],
   "metadata": {
    "collapsed": false
   },
   "id": "d981653ec5ccfecd"
  },
  {
   "cell_type": "markdown",
   "source": [
    "Średnie temperatury"
   ],
   "metadata": {
    "collapsed": false
   },
   "id": "4afd0652cf7e11ea"
  },
  {
   "cell_type": "code",
   "execution_count": null,
   "outputs": [],
   "source": [
    "fig = make_subplots(specs=[[{\"secondary_y\": True}]])\n",
    "\n",
    "# Add traces\n",
    "fig.add_trace(\n",
    "    go.Scatter(x=df['Czas'], y=df['Średnia temperatura z góra'], name=\"Średnia temperatura z poddaszem\"),\n",
    "    secondary_y=False,\n",
    ")\n",
    "\n",
    "fig.add_trace(\n",
    "    go.Scatter(x=df['Czas'], y=df['Średnia temperatura bez góry'], name=\"Średnia temperatura bez poddasza\"),\n",
    "    secondary_y=False,\n",
    ")\n",
    "\n",
    "# Add figure title\n",
    "fig.update_layout(\n",
    "    title_text=\"Średnie temperatury w czasie\"\n",
    ")\n",
    "fig.update_layout(\n",
    "    xaxis_title=\"Data\",\n",
    "    legend_title=\"Legenda\",\n",
    ")\n",
    "\n",
    "# Set x-axis title\n",
    "fig.update_xaxes(title_text=\"Data\")\n",
    "\n",
    "# Set y-axes titles\n",
    "fig.update_yaxes(title_text=\"Temperatura [°C]\", dtick=0.5, secondary_y=False)\n",
    "\n",
    "fig.show()"
   ],
   "metadata": {
    "collapsed": false
   },
   "id": "8fb1aff62fb8dd0b"
  },
  {
   "cell_type": "markdown",
   "source": [
    "Średnie temperatury i zewnętrzna"
   ],
   "metadata": {
    "collapsed": false
   },
   "id": "8cdef306f1c4937"
  },
  {
   "cell_type": "code",
   "execution_count": null,
   "outputs": [],
   "source": [
    "fig = make_subplots(specs=[[{\"secondary_y\": True}]])\n",
    "\n",
    "# Add traces\n",
    "fig.add_trace(\n",
    "    go.Scatter(x=df['Czas'], y=df['Bieg wyciągu'], name=\"Bieg wyciągu\", line_shape='hv'),\n",
    "    secondary_y=False,\n",
    ")\n",
    "\n",
    "fig.add_trace(\n",
    "    go.Scatter(x=df['Czas'], y=df['Bieg nadmuchu'], name=\"Bieg nadmuchu\", line_shape='hv'),\n",
    "    secondary_y=False,\n",
    ")\n",
    "\n",
    "fig.add_trace(\n",
    "    go.Scatter(x=df['Czas'], y=df['Średnia temperatura z góra'], name=\"Średnia temperatura z poddaszem\"),\n",
    "    secondary_y=True,\n",
    ")\n",
    "\n",
    "fig.add_trace(\n",
    "    go.Scatter(x=df['Czas'], y=df['Średnia temperatura bez góry'], name=\"Średnia temperatura bez poddasza\"),\n",
    "    secondary_y=True,\n",
    ")\n",
    "\n",
    "fig.add_trace(\n",
    "    go.Scatter(x=df['Czas'], y=df['Temperatura zewnętrzna'], name=\"Temperatura zewnętrzna\"),\n",
    "    secondary_y=True,\n",
    ")\n",
    "\n",
    "# Add figure title\n",
    "fig.update_layout(\n",
    "    title_text=\"Temperatury w czasie\"\n",
    ")\n",
    "fig.update_layout(\n",
    "    xaxis_title=\"Data\",\n",
    "    legend_title=\"Legenda\",\n",
    ")\n",
    "\n",
    "# Set x-axis title\n",
    "fig.update_xaxes(title_text=\"Data\")\n",
    "\n",
    "# Set y-axes titles\n",
    "fig.update_yaxes(title_text=\"Bieg wentylatora\", type='category', secondary_y=False)\n",
    "fig.update_yaxes(title_text=\"Temperatura [°C]\", dtick=2.5, secondary_y=True)\n",
    "\n",
    "fig.show()"
   ],
   "metadata": {
    "collapsed": false
   },
   "id": "4af6b3f5bcd4498c"
  },
  {
   "cell_type": "markdown",
   "source": [
    "Ciśnienie kuchnia i łazienka"
   ],
   "metadata": {
    "collapsed": false
   },
   "id": "c68cb57628150e4f"
  },
  {
   "cell_type": "code",
   "execution_count": null,
   "outputs": [],
   "source": [
    "fig = make_subplots(specs=[[{\"secondary_y\": True}]])\n",
    "\n",
    "# Add traces\n",
    "fig.add_trace(\n",
    "    go.Scatter(x=df['Czas'], y=df['Bieg wyciągu'], name=\"Bieg wyciągu\", line_shape='hv'),\n",
    "    secondary_y=False,\n",
    ")\n",
    "\n",
    "fig.add_trace(\n",
    "    go.Scatter(x=df['Czas'], y=df['Bieg nadmuchu'], name=\"Bieg nadmuchu\", line_shape='hv'),\n",
    "    secondary_y=False,\n",
    ")\n",
    "\n",
    "fig.add_trace(\n",
    "    go.Scatter(x=df['Czas'], y=df['Ciśnienie kuchia'], name=\"Ciśnienie kuchia\"),\n",
    "    secondary_y=True,\n",
    ")\n",
    "\n",
    "fig.add_trace(\n",
    "    go.Scatter(x=df['Czas'], y=df['Ciśnienie łazienka'], name=\"Ciśnienie łazienka\"),\n",
    "    secondary_y=True,\n",
    ")\n",
    "\n",
    "# Add figure title\n",
    "fig.update_layout(\n",
    "    title_text=\"Ciśnienia i biegi wentylatorów w czasie\"\n",
    ")\n",
    "fig.update_layout(\n",
    "    xaxis_title=\"Data\",\n",
    "    legend_title=\"Legenda\",\n",
    ")\n",
    "\n",
    "# Set x-axis title\n",
    "fig.update_xaxes(title_text=\"Data\")\n",
    "\n",
    "# Set y-axes titles\n",
    "fig.update_yaxes(title_text=\"Bieg wentylatora\", type='category', secondary_y=False)\n",
    "fig.update_yaxes(title_text=\"Ciśnienie [hPa]\", dtick=5, secondary_y=True)\n",
    "\n",
    "fig.show()"
   ],
   "metadata": {
    "collapsed": false
   },
   "id": "5f9edc7626315a47"
  },
  {
   "cell_type": "markdown",
   "source": [
    "Wilgotności"
   ],
   "metadata": {
    "collapsed": false
   },
   "id": "d6e858f7b86b14f5"
  },
  {
   "cell_type": "code",
   "execution_count": null,
   "outputs": [],
   "source": [
    "fig = make_subplots(specs=[[{\"secondary_y\": True}]])\n",
    "\n",
    "# Add traces\n",
    "fig.add_trace(\n",
    "    go.Scatter(x=df['Czas'], y=df['Bieg wyciągu'], name=\"Bieg wyciągu\", line_shape='hv'),\n",
    "    secondary_y=False,\n",
    ")\n",
    "\n",
    "fig.add_trace(\n",
    "    go.Scatter(x=df['Czas'], y=df['Bieg nadmuchu'], name=\"Bieg nadmuchu\", line_shape='hv'),\n",
    "    secondary_y=False,\n",
    ")\n",
    "\n",
    "fig.add_trace(\n",
    "    go.Scatter(x=df['Czas'], y=df['Wilgotność kuchnia'], name=\"Wilgotność kuchnia\"),\n",
    "    secondary_y=True,\n",
    ")\n",
    "\n",
    "fig.add_trace(\n",
    "    go.Scatter(x=df['Czas'], y=df['Wilgotność łazienka'], name=\"Wilgotność łazienka\"),\n",
    "    secondary_y=True,\n",
    ")\n",
    "\n",
    "# Add figure title\n",
    "fig.update_layout(\n",
    "    title_text=\"Wilgotności i biegi wentylatorów w czasie\"\n",
    ")\n",
    "fig.update_layout(\n",
    "    xaxis_title=\"Data\",\n",
    "    legend_title=\"Legenda\",\n",
    ")\n",
    "\n",
    "# Set x-axis title\n",
    "fig.update_xaxes(title_text=\"Data\")\n",
    "\n",
    "# Set y-axes titles\n",
    "fig.update_yaxes(title_text=\"Bieg wentylatora\", type='category', secondary_y=False)\n",
    "fig.update_yaxes(title_text=\"Wilgotność [%]\", dtick=5, secondary_y=True)\n",
    "\n",
    "fig.show()"
   ],
   "metadata": {
    "collapsed": false
   },
   "id": "9e903546b9b85d30"
  },
  {
   "cell_type": "markdown",
   "source": [
    "Temperatura kuchnia i łazienka"
   ],
   "metadata": {
    "collapsed": false
   },
   "id": "2e722fec592c9fdc"
  },
  {
   "cell_type": "code",
   "execution_count": null,
   "outputs": [],
   "source": [
    "fig = make_subplots(specs=[[{\"secondary_y\": True}]])\n",
    "\n",
    "# Add traces\n",
    "fig.add_trace(\n",
    "    go.Scatter(x=df['Czas'], y=df['Bieg wyciągu'], name=\"Bieg wyciągu\", line_shape='hv'),\n",
    "    secondary_y=False,\n",
    ")\n",
    "\n",
    "fig.add_trace(\n",
    "    go.Scatter(x=df['Czas'], y=df['Bieg nadmuchu'], name=\"Bieg nadmuchu\", line_shape='hv'),\n",
    "    secondary_y=False,\n",
    ")\n",
    "\n",
    "fig.add_trace(\n",
    "    go.Scatter(x=df['Czas'], y=df['Temperatura kuchnia'], name=\"Temperatura kuchni\"),\n",
    "    secondary_y=True,\n",
    ")\n",
    "\n",
    "fig.add_trace(\n",
    "    go.Scatter(x=df['Czas'], y=df['Temperatura łazienka'], name=\"Temperatura łazienki\"),\n",
    "    secondary_y=True,\n",
    ")\n",
    "\n",
    "# Add figure title\n",
    "fig.update_layout(\n",
    "    title_text=\"Temperatury i biegi wentylatorów w czasie\"\n",
    ")\n",
    "fig.update_layout(\n",
    "    xaxis_title=\"Data\",\n",
    "    legend_title=\"Legenda\",\n",
    ")\n",
    "\n",
    "# Set x-axis title\n",
    "fig.update_xaxes(title_text=\"Data\")\n",
    "\n",
    "# Set y-axes titles\n",
    "fig.update_yaxes(title_text=\"Bieg wentylatora\", type='category', secondary_y=False)\n",
    "fig.update_yaxes(title_text=\"Temperatura [°C]\", dtick=0.5, secondary_y=True)\n",
    "\n",
    "fig.show()"
   ],
   "metadata": {
    "collapsed": false
   },
   "id": "c2867933ef9184e9"
  },
  {
   "cell_type": "markdown",
   "source": [
    "Koncentracje"
   ],
   "metadata": {
    "collapsed": false
   },
   "id": "dd82e36aff52365e"
  },
  {
   "cell_type": "code",
   "execution_count": null,
   "outputs": [],
   "source": [
    "fig = make_subplots(specs=[[{\"secondary_y\": True}]])\n",
    "\n",
    "# Add traces\n",
    "fig.add_trace(\n",
    "    go.Scatter(x=df['Czas'], y=df['Bieg wyciągu'], name=\"Bieg wyciągu\", line_shape='hv'),\n",
    "    secondary_y=False,\n",
    ")\n",
    "\n",
    "fig.add_trace(\n",
    "    go.Scatter(x=df['Czas'], y=df['Bieg nadmuchu'], name=\"Bieg nadmuchu\", line_shape='hv'),\n",
    "    secondary_y=False,\n",
    ")\n",
    "\n",
    "fig.add_trace(\n",
    "    go.Scatter(x=df['Czas'], y=df['Koncentracja PM1p0 '], name=\"Koncentracja PM1.0\"),\n",
    "    secondary_y=True,\n",
    ")\n",
    "\n",
    "fig.add_trace(\n",
    "    go.Scatter(x=df['Czas'], y=df['Koncentracja PM2p5 '], name=\"Koncentracja PM2.5\"),\n",
    "    secondary_y=True,\n",
    ")\n",
    "\n",
    "fig.add_trace(\n",
    "    go.Scatter(x=df['Czas'], y=df['Koncentracja PM4p0 '], name=\"Koncentracja PM4.0\"),\n",
    "    secondary_y=True,\n",
    ")\n",
    "\n",
    "fig.add_trace(\n",
    "    go.Scatter(x=df['Czas'], y=df['Koncentracja PM10p0 '], name=\"Koncentracja PM10.0\"),\n",
    "    secondary_y=True,\n",
    ")\n",
    "\n",
    "# Add figure title\n",
    "fig.update_layout(\n",
    "    title_text=\"Koncentracje pyłów zawieszonych i biegi wentylatorów w czasie\"\n",
    ")\n",
    "fig.update_layout(\n",
    "    xaxis_title=\"Data\",\n",
    "    legend_title=\"Legenda\",\n",
    ")\n",
    "\n",
    "# Set x-axis title\n",
    "fig.update_xaxes(title_text=\"Data\")\n",
    "\n",
    "# Set y-axes titles\n",
    "fig.update_yaxes(title_text=\"Bieg wentylatora\", type='category', secondary_y=False)\n",
    "fig.update_yaxes(title_text=\"Koncentracja pyłu zawieszonego [µg/m3]\", dtick=5, secondary_y=True)\n",
    "\n",
    "fig.show()"
   ],
   "metadata": {
    "collapsed": false
   },
   "id": "308ff8d03093805e"
  },
  {
   "cell_type": "markdown",
   "source": [
    "Dym i tlenek węgla"
   ],
   "metadata": {
    "collapsed": false
   },
   "id": "c423b80b105a78a3"
  },
  {
   "cell_type": "code",
   "execution_count": null,
   "outputs": [],
   "source": [
    "fig = make_subplots(specs=[[{\"secondary_y\": True}]])\n",
    "\n",
    "# Add traces\n",
    "fig.add_trace(\n",
    "    go.Scatter(x=df['Czas'], y=df['Bieg wyciągu'], name=\"Bieg wyciągu\", line_shape='hv'),\n",
    "    secondary_y=False,\n",
    ")\n",
    "\n",
    "fig.add_trace(\n",
    "    go.Scatter(x=df['Czas'], y=df['Bieg nadmuchu'], name=\"Bieg nadmuchu\", line_shape='hv'),\n",
    "    secondary_y=False,\n",
    ")\n",
    "\n",
    "fig.add_trace(\n",
    "    go.Scatter(x=df['Czas'], y=df['Odczyt dym'], name=\"Odczyt dym\"),\n",
    "    secondary_y=True,\n",
    ")\n",
    "\n",
    "fig.add_trace(\n",
    "    go.Scatter(x=df['Czas'], y=df['Odczyt tlenku węgla'], name=\"Odczyt tlenku węgla\"),\n",
    "    secondary_y=True,\n",
    ")\n",
    "\n",
    "# Add figure title\n",
    "fig.update_layout(\n",
    "    title_text=\"Odczyty dymu i tlenku węgla oraz biegi wentylatorów w czasie\"\n",
    ")\n",
    "fig.update_layout(\n",
    "    xaxis_title=\"Data\",\n",
    "    legend_title=\"Legenda\",\n",
    ")\n",
    "\n",
    "# Set x-axis title\n",
    "fig.update_xaxes(title_text=\"Data\")\n",
    "\n",
    "# Set y-axes titles\n",
    "fig.update_yaxes(title_text=\"Bieg wentylatora\", type='category', secondary_y=False)\n",
    "fig.update_yaxes(title_text=\"Odczyty\", dtick=10, secondary_y=True)\n",
    "\n",
    "fig.show()"
   ],
   "metadata": {
    "collapsed": false
   },
   "id": "5c72974a743b6790"
  },
  {
   "cell_type": "code",
   "execution_count": null,
   "outputs": [],
   "source": [],
   "metadata": {
    "collapsed": false
   },
   "id": "7cc3663e5bb469a0"
  }
 ],
 "metadata": {
  "kernelspec": {
   "display_name": "Python 3",
   "language": "python",
   "name": "python3"
  },
  "language_info": {
   "codemirror_mode": {
    "name": "ipython",
    "version": 2
   },
   "file_extension": ".py",
   "mimetype": "text/x-python",
   "name": "python",
   "nbconvert_exporter": "python",
   "pygments_lexer": "ipython2",
   "version": "2.7.6"
  }
 },
 "nbformat": 4,
 "nbformat_minor": 5
}
